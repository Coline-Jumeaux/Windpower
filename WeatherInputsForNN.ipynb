{
 "cells": [
  {
   "cell_type": "code",
   "execution_count": 55,
   "metadata": {},
   "outputs": [],
   "source": [
    "import numpy as np\n",
    "import pandas as pd\n",
    "import netCDF4\n",
    "import glob\n",
    "from scipy import interpolate"
   ]
  },
  {
   "cell_type": "code",
   "execution_count": 56,
   "metadata": {},
   "outputs": [],
   "source": [
    "# turbines and sector power output\n",
    "turbines = pd.read_csv('windturbines_fillna_shiftlon_xy.csv')\n",
    "turbines.drop(columns=['Unnamed: 0.1'], inplace=True)\n",
    "\n",
    "sector_power = pd.read_csv('windpower_task0_updated.csv')"
   ]
  },
  {
   "cell_type": "code",
   "execution_count": 57,
   "metadata": {},
   "outputs": [
    {
     "data": {
      "text/html": [
       "<div>\n",
       "<style scoped>\n",
       "    .dataframe tbody tr th:only-of-type {\n",
       "        vertical-align: middle;\n",
       "    }\n",
       "\n",
       "    .dataframe tbody tr th {\n",
       "        vertical-align: top;\n",
       "    }\n",
       "\n",
       "    .dataframe thead th {\n",
       "        text-align: right;\n",
       "    }\n",
       "</style>\n",
       "<table border=\"1\" class=\"dataframe\">\n",
       "  <thead>\n",
       "    <tr style=\"text-align: right;\">\n",
       "      <th></th>\n",
       "      <th>Unnamed: 0</th>\n",
       "      <th>Wind turbine ID</th>\n",
       "      <th>Terrain height [m]</th>\n",
       "      <th>Nacelle height [m]</th>\n",
       "      <th>Rotor diameter [m]</th>\n",
       "      <th>Max power [MW]</th>\n",
       "      <th>Price region</th>\n",
       "      <th>Installation date</th>\n",
       "      <th>Longitude</th>\n",
       "      <th>Latitude</th>\n",
       "      <th>point</th>\n",
       "      <th>closest</th>\n",
       "      <th>indices</th>\n",
       "      <th>x</th>\n",
       "      <th>y</th>\n",
       "      <th>(y,x)</th>\n",
       "    </tr>\n",
       "  </thead>\n",
       "  <tbody>\n",
       "    <tr>\n",
       "      <th>0</th>\n",
       "      <td>0</td>\n",
       "      <td>1781-V-010-001</td>\n",
       "      <td>65.12</td>\n",
       "      <td>30.0</td>\n",
       "      <td>14.0</td>\n",
       "      <td>0.02</td>\n",
       "      <td>SE3</td>\n",
       "      <td>1881-12-31</td>\n",
       "      <td>14.133793</td>\n",
       "      <td>59.253088</td>\n",
       "      <td>(59.25308804, 14.13379311)</td>\n",
       "      <td>(59.228135647012415, 14.079305883038023)</td>\n",
       "      <td>4609</td>\n",
       "      <td>27</td>\n",
       "      <td>46</td>\n",
       "      <td>(46, 27)</td>\n",
       "    </tr>\n",
       "    <tr>\n",
       "      <th>1</th>\n",
       "      <td>1</td>\n",
       "      <td>1785-V-006-001</td>\n",
       "      <td>59.07</td>\n",
       "      <td>16.0</td>\n",
       "      <td>11.0</td>\n",
       "      <td>0.01</td>\n",
       "      <td>SE3</td>\n",
       "      <td>1881-12-31</td>\n",
       "      <td>12.802235</td>\n",
       "      <td>59.380151</td>\n",
       "      <td>(59.380151299999994, 12.80223545)</td>\n",
       "      <td>(59.392550713030694, 12.840249433484077)</td>\n",
       "      <td>3428</td>\n",
       "      <td>20</td>\n",
       "      <td>48</td>\n",
       "      <td>(48, 20)</td>\n",
       "    </tr>\n",
       "    <tr>\n",
       "      <th>2</th>\n",
       "      <td>2</td>\n",
       "      <td>1880-V-020-001</td>\n",
       "      <td>45.05</td>\n",
       "      <td>16.0</td>\n",
       "      <td>90.0</td>\n",
       "      <td>0.02</td>\n",
       "      <td>SE3</td>\n",
       "      <td>1881-12-31</td>\n",
       "      <td>15.075022</td>\n",
       "      <td>59.178468</td>\n",
       "      <td>(59.17846848, 15.07502163)</td>\n",
       "      <td>(59.14169787003992, 15.131470469888283)</td>\n",
       "      <td>5622</td>\n",
       "      <td>33</td>\n",
       "      <td>45</td>\n",
       "      <td>(45, 33)</td>\n",
       "    </tr>\n",
       "    <tr>\n",
       "      <th>3</th>\n",
       "      <td>3</td>\n",
       "      <td>2321-V-002-001</td>\n",
       "      <td>413.00</td>\n",
       "      <td>98.0</td>\n",
       "      <td>90.0</td>\n",
       "      <td>0.02</td>\n",
       "      <td>SE2</td>\n",
       "      <td>1881-12-31</td>\n",
       "      <td>13.376852</td>\n",
       "      <td>63.437566</td>\n",
       "      <td>(63.43756636, 13.37685237)</td>\n",
       "      <td>(63.446103743945535, 13.340484662552742)</td>\n",
       "      <td>4149</td>\n",
       "      <td>24</td>\n",
       "      <td>93</td>\n",
       "      <td>(93, 24)</td>\n",
       "    </tr>\n",
       "    <tr>\n",
       "      <th>4</th>\n",
       "      <td>4</td>\n",
       "      <td>2321-V-001-001</td>\n",
       "      <td>413.58</td>\n",
       "      <td>98.0</td>\n",
       "      <td>90.0</td>\n",
       "      <td>0.10</td>\n",
       "      <td>SE2</td>\n",
       "      <td>1881-12-31</td>\n",
       "      <td>13.376548</td>\n",
       "      <td>63.436982</td>\n",
       "      <td>(63.43698165, 13.37654786)</td>\n",
       "      <td>(63.446103743945535, 13.340484662552742)</td>\n",
       "      <td>4149</td>\n",
       "      <td>24</td>\n",
       "      <td>93</td>\n",
       "      <td>(93, 24)</td>\n",
       "    </tr>\n",
       "  </tbody>\n",
       "</table>\n",
       "</div>"
      ],
      "text/plain": [
       "   Unnamed: 0 Wind turbine ID  Terrain height [m]  Nacelle height [m]  \\\n",
       "0           0  1781-V-010-001               65.12                30.0   \n",
       "1           1  1785-V-006-001               59.07                16.0   \n",
       "2           2  1880-V-020-001               45.05                16.0   \n",
       "3           3  2321-V-002-001              413.00                98.0   \n",
       "4           4  2321-V-001-001              413.58                98.0   \n",
       "\n",
       "   Rotor diameter [m]  Max power [MW] Price region Installation date  \\\n",
       "0                14.0            0.02          SE3        1881-12-31   \n",
       "1                11.0            0.01          SE3        1881-12-31   \n",
       "2                90.0            0.02          SE3        1881-12-31   \n",
       "3                90.0            0.02          SE2        1881-12-31   \n",
       "4                90.0            0.10          SE2        1881-12-31   \n",
       "\n",
       "   Longitude   Latitude                              point  \\\n",
       "0  14.133793  59.253088         (59.25308804, 14.13379311)   \n",
       "1  12.802235  59.380151  (59.380151299999994, 12.80223545)   \n",
       "2  15.075022  59.178468         (59.17846848, 15.07502163)   \n",
       "3  13.376852  63.437566         (63.43756636, 13.37685237)   \n",
       "4  13.376548  63.436982         (63.43698165, 13.37654786)   \n",
       "\n",
       "                                    closest  indices   x   y     (y,x)  \n",
       "0  (59.228135647012415, 14.079305883038023)     4609  27  46  (46, 27)  \n",
       "1  (59.392550713030694, 12.840249433484077)     3428  20  48  (48, 20)  \n",
       "2   (59.14169787003992, 15.131470469888283)     5622  33  45  (45, 33)  \n",
       "3  (63.446103743945535, 13.340484662552742)     4149  24  93  (93, 24)  \n",
       "4  (63.446103743945535, 13.340484662552742)     4149  24  93  (93, 24)  "
      ]
     },
     "execution_count": 57,
     "metadata": {},
     "output_type": "execute_result"
    }
   ],
   "source": [
    "turbines.head()"
   ]
  },
  {
   "cell_type": "code",
   "execution_count": 58,
   "metadata": {},
   "outputs": [],
   "source": [
    "turbine_features = ['Terrain height [m]', 'Nacelle height [m]', 'Rotor diameter [m]', 'Max power [MW]', 'Price region', 'Installation date', 'Longitude', 'Latitude', 'x', 'y', '(y,x)' ]"
   ]
  },
  {
   "cell_type": "code",
   "execution_count": 85,
   "metadata": {},
   "outputs": [],
   "source": [
    "turbines_SE1 = turbines.loc[turbines['Price region']=='SE1', turbine_features]\n",
    "turbines_SE1.reset_index(inplace=True)\n",
    "turbines_SE2 = turbines.loc[turbines['Price region']=='SE2', turbine_features]\n",
    "turbines_SE2.reset_index(inplace=True)\n",
    "turbines_SE3 = turbines.loc[turbines['Price region']=='SE3', turbine_features]\n",
    "turbines_SE3.reset_index(inplace=True)\n",
    "turbines_SE4 = turbines.loc[turbines['Price region']=='SE4', turbine_features]\n",
    "turbines_SE4.reset_index(inplace=True)"
   ]
  },
  {
   "cell_type": "code",
   "execution_count": 86,
   "metadata": {},
   "outputs": [],
   "source": [
    "turbines_SE1_np = turbines_SE1.to_numpy()\n",
    "turbines_SE2_np = turbines_SE2.to_numpy()\n",
    "turbines_SE3_np = turbines_SE3.to_numpy()\n",
    "turbines_SE4_np = turbines_SE4.to_numpy()"
   ]
  },
  {
   "cell_type": "code",
   "execution_count": 99,
   "metadata": {},
   "outputs": [],
   "source": [
    "listoffiles=(glob.glob(\"/data/*.nc\"))"
   ]
  },
  {
   "cell_type": "code",
   "execution_count": 101,
   "metadata": {},
   "outputs": [],
   "source": [
    "timestamp_list = []\n",
    "\n",
    "for file in listoffiles:\n",
    "    weather = netCDF4.Dataset(file, 'r')\n",
    "    var = weather.variables['time']\n",
    "    Timestamp = netCDF4.num2date(var[:], units=var.units)\n",
    "    timestamp_list.append(Timestamp)"
   ]
  },
  {
   "cell_type": "code",
   "execution_count": 112,
   "metadata": {},
   "outputs": [],
   "source": [
    "timestamp_list_reordered = []\n",
    "for i in range(len(timestamp_list)):\n",
    "    for j in range(24):\n",
    "        a = timestamp_list[i][j]\n",
    "        timestamp_list_reordered.append(a)\n",
    "        "
   ]
  },
  {
   "cell_type": "code",
   "execution_count": 114,
   "metadata": {},
   "outputs": [
    {
     "data": {
      "text/plain": [
       "10152"
      ]
     },
     "execution_count": 114,
     "metadata": {},
     "output_type": "execute_result"
    }
   ],
   "source": [
    "len(timestamp_list_reordered)"
   ]
  },
  {
   "cell_type": "code",
   "execution_count": 116,
   "metadata": {},
   "outputs": [
    {
     "data": {
      "text/plain": [
       "cftime.DatetimeGregorian(2001-02-28 00:00:00)"
      ]
     },
     "execution_count": 116,
     "metadata": {},
     "output_type": "execute_result"
    }
   ],
   "source": [
    "b = netCDF4.num2date(var[0], units=var.units)\n",
    "b"
   ]
  },
  {
   "cell_type": "code",
   "execution_count": 117,
   "metadata": {},
   "outputs": [
    {
     "data": {
      "text/plain": [
       "10128"
      ]
     },
     "execution_count": 117,
     "metadata": {},
     "output_type": "execute_result"
    }
   ],
   "source": [
    "timestamp_list_reordered.index(b)"
   ]
  },
  {
   "cell_type": "code",
   "execution_count": 62,
   "metadata": {},
   "outputs": [],
   "source": [
    "weather_features = ['Temperature', 'RelativeHumidity', 'Wind_U', 'Wind_V', 'Pressure', 'CloudCover', 'WindGustSpeed']"
   ]
  },
  {
   "cell_type": "code",
   "execution_count": null,
   "metadata": {},
   "outputs": [],
   "source": [
    "listoffiles=(glob.glob(\"/data/*.nc\"))\n",
    "\n",
    "weather_features = ['Temperature', 'RelativeHumidity', 'Wind_U', 'Wind_V', 'Pressure', 'CloudCover', 'WindGustSpeed']\n",
    "\n",
    "\n",
    "n_times = len(timestamp_list_reordered)\n",
    "\n",
    "weather_at_turbine_locations_SE1 = np.zeros(shape=(n_times,len(turbines_SE1.index),len(weather_features)))\n",
    "weather_at_turbine_locations_SE2 = np.zeros(shape=(n_times,len(turbines_SE2.index),len(weather_features)))\n",
    "weather_at_turbine_locations_SE3 = np.zeros(shape=(n_times,len(turbines_SE3.index),len(weather_features)))\n",
    "weather_at_turbine_locations_SE4 = np.zeros(shape=(n_times,len(turbines_SE4.index),len(weather_features)))\n",
    "\n",
    "\n",
    "\n",
    "for file in listoffiles:\n",
    "    ds = netCDF4.Dataset(file, 'r') #open weatherdata dataset\n",
    "    var = ds.variables['time']\n",
    "    \n",
    "    for t in range(24):\n",
    "        \n",
    "        i = timestamp_list_reordered.index(netCDF4.num2date(var[t], units=var.units)) #will fill in weather_at_turbine_locations_SE1[i,j,k] [n_times, n_turbines, n_weather features]\n",
    "        k = 0 #set up the counter for the weather features\n",
    "        \n",
    "        for feature in weather_features:\n",
    "        \n",
    "            data = ds.variables[feature][t,:,:,:]\n",
    "            m = data.mean(axis=0) #taking the mean of the weather feature over the weather ensembles\n",
    "            s = data.std(axis=0) #taking the stdev of the weather feature over the weather ensembles\n",
    "            \n",
    "            for j in range(0, len(turbines_SE1.index)):\n",
    "                weather_at_turbine_locations_SE1[i,j,k] = m[turbines_SE1['y'][j],turbines_SE1['x'][j]]\n",
    "                    \n",
    "            for j in range(0, len(turbines_SE2.index)):\n",
    "                weather_at_turbine_locations_SE2[i,j,k] = m[turbines_SE2['y'][j],turbines_SE2['x'][j]]\n",
    "                \n",
    "            for j in range(0, len(turbines_SE3.index)):\n",
    "                weather_at_turbine_locations_SE3[i,j,k] = m[turbines_SE3['y'][j],turbines_SE3['x'][j]]\n",
    "                \n",
    "            for j in range(0, len(turbines_SE4.index)):\n",
    "                weather_at_turbine_locations_SE4[i,j,k] = m[turbines_SE4['y'][j],turbines_SE4['x'][j]]\n",
    "                \n",
    "            k = k+1 #populates next column with next weather feature\n",
    "            \n",
    "   \n",
    "            "
   ]
  },
  {
   "cell_type": "code",
   "execution_count": 120,
   "metadata": {},
   "outputs": [
    {
     "data": {
      "text/plain": [
       "(24, 472, 7)"
      ]
     },
     "execution_count": 120,
     "metadata": {},
     "output_type": "execute_result"
    }
   ],
   "source": [
    "weather_at_turbine_locations_SE1.shape"
   ]
  },
  {
   "cell_type": "code",
   "execution_count": null,
   "metadata": {},
   "outputs": [],
   "source": []
  }
 ],
 "metadata": {
  "kernelspec": {
   "display_name": "Python 3",
   "language": "python",
   "name": "python3"
  },
  "language_info": {
   "codemirror_mode": {
    "name": "ipython",
    "version": 3
   },
   "file_extension": ".py",
   "mimetype": "text/x-python",
   "name": "python",
   "nbconvert_exporter": "python",
   "pygments_lexer": "ipython3",
   "version": "3.7.0"
  }
 },
 "nbformat": 4,
 "nbformat_minor": 4
}
