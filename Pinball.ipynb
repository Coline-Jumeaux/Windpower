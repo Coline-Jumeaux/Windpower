{
 "cells": [
  {
   "cell_type": "code",
   "execution_count": 174,
   "metadata": {},
   "outputs": [],
   "source": [
    "import numpy as np\n",
    "import pandas as pd\n",
    "import netCDF4\n",
    "import glob\n",
    "import os"
   ]
  },
  {
   "cell_type": "code",
   "execution_count": 175,
   "metadata": {},
   "outputs": [],
   "source": [
    "os.chdir('/Volumes/My Passport/eem20/')"
   ]
  },
  {
   "cell_type": "code",
   "execution_count": 176,
   "metadata": {},
   "outputs": [],
   "source": [
    "# sector power\n",
    "sector_power = pd.read_csv('data_turbines/windpower_task2.csv')\n",
    "\n",
    "#Only select the last 61 days\n",
    "drop_indices = np.arange(0,10200).tolist()\n",
    "sector_power = sector_power.drop(index=drop_indices).reset_index()\n"
   ]
  },
  {
   "cell_type": "code",
   "execution_count": 177,
   "metadata": {},
   "outputs": [],
   "source": [
    "# sort out the global time stamp list for the weather files\n",
    "\n",
    "listoffiles = (glob.glob(\"Round 2/Comp data/*.nc\"))\n",
    "time_stamps = []\n",
    "for file in listoffiles:\n",
    "    weather = netCDF4.Dataset(file, 'r')\n",
    "    units = weather.variables['time'].units\n",
    "    Timestamp = netCDF4.num2date(weather.variables['time'][:], units=units)\n",
    "    time_stamps += Timestamp.tolist()\n",
    "\n",
    "# sort into time-ordered array\n",
    "time_stamps.sort()"
   ]
  },
  {
   "cell_type": "code",
   "execution_count": 178,
   "metadata": {},
   "outputs": [],
   "source": [
    "#Load the targets\n",
    "\n",
    "targets_SE1 = sector_power['SE1'].values\n",
    "targets_SE2 = sector_power['SE2'].values\n",
    "targets_SE3 = sector_power['SE3'].values\n",
    "targets_SE4 = sector_power['SE4'].values"
   ]
  },
  {
   "cell_type": "code",
   "execution_count": 181,
   "metadata": {},
   "outputs": [],
   "source": [
    "#Load the predictions\n",
    "\n",
    "predictions_SE1 = np.load('round2_percentiles/percentiles_SE1.npy')\n",
    "predictions_SE2 = np.load('round2_percentiles/percentiles_SE2.npy')\n",
    "predictions_SE3 = np.load('round2_percentiles/percentiles_SE3.npy')\n",
    "predictions_SE4 = np.load('round2_percentiles/percentiles_SE4.npy')"
   ]
  },
  {
   "cell_type": "code",
   "execution_count": 182,
   "metadata": {},
   "outputs": [
    {
     "data": {
      "text/plain": [
       "76.34018527518245"
      ]
     },
     "execution_count": 182,
     "metadata": {},
     "output_type": "execute_result"
    }
   ],
   "source": [
    "#List of quantiles\n",
    "tau = np.arange(0.1, 1, 0.1)\n",
    "\n",
    "#Calculate the averaged pinball loss function per area, and average over all the timestamps\n",
    "\n",
    "Loss_SE1 = 0\n",
    "for i in range(len(time_stamps)):\n",
    "    for j in range(len(tau)):\n",
    "        a = tau[j] * ReLU(targets_SE1[i] - predictions_SE1[i,j]) + (1-tau[j])*ReLU(predictions_SE1[i,j] - targets_SE1[i])\n",
    "        Loss_SE1 += a\n",
    "Loss_SE1 = Loss_SE1/(9*len(time_stamps))\n",
    "\n",
    "Loss_SE2 = 0\n",
    "for i in range(len(time_stamps)):\n",
    "    for j in range(len(tau)):\n",
    "        a = tau[j] * ReLU(targets_SE2[i] - predictions_SE2[i,j]) + (1-tau[j])*ReLU(predictions_SE2[i,j] - targets_SE2[i])\n",
    "        Loss_SE2 += a\n",
    "Loss_SE2 = Loss_SE2/(9*len(time_stamps))\n",
    "\n",
    "Loss_SE3 = 0\n",
    "for i in range(len(time_stamps)):\n",
    "    for j in range(len(tau)):\n",
    "        a = tau[j] * ReLU(targets_SE3[i] - predictions_SE3[i,j]) + (1-tau[j])*ReLU(predictions_SE3[i,j] - targets_SE3[i])\n",
    "        Loss_SE3 += a\n",
    "Loss_SE3 = Loss_SE3/(9*len(time_stamps))\n",
    "\n",
    "Loss_SE4 = 0\n",
    "for i in range(len(time_stamps)):\n",
    "    for j in range(len(tau)):\n",
    "        a = tau[j] * ReLU(targets_SE4[i] - predictions_SE4[i,j]) + (1-tau[j])*ReLU(predictions_SE4[i,j] - targets_SE4[i])\n",
    "        Loss_SE4 += a\n",
    "Loss_SE4 = Loss_SE4/(9*len(time_stamps))\n",
    "\n",
    "\n",
    "#team score of each submission is calculated as an average over all areas\n",
    "Team_score = (Loss_SE1 + Loss_SE2 + Loss_SE3 + Loss_SE4)/4\n",
    "Team_score"
   ]
  }
 ],
 "metadata": {
  "kernelspec": {
   "display_name": "Python 3",
   "language": "python",
   "name": "python3"
  },
  "language_info": {
   "codemirror_mode": {
    "name": "ipython",
    "version": 3
   },
   "file_extension": ".py",
   "mimetype": "text/x-python",
   "name": "python",
   "nbconvert_exporter": "python",
   "pygments_lexer": "ipython3",
   "version": "3.7.0"
  }
 },
 "nbformat": 4,
 "nbformat_minor": 4
}
