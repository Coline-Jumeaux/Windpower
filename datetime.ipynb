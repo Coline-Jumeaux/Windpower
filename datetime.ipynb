{
 "cells": [
  {
   "cell_type": "code",
   "execution_count": 142,
   "metadata": {},
   "outputs": [],
   "source": [
    "import numpy as np\n",
    "import matplotlib.pyplot as plt\n",
    "import pandas as pd\n",
    "import datetime\n",
    "from dateutil.relativedelta import relativedelta\n",
    "\n",
    "import netCDF4\n",
    "import glob"
   ]
  },
  {
   "cell_type": "code",
   "execution_count": 143,
   "metadata": {},
   "outputs": [],
   "source": [
    "# turbines and sector power output\n",
    "turbines = pd.read_csv('windturbines_fillna_shiftlon_xy.csv')\n",
    "turbines.drop(columns=['Unnamed: 0.1'], inplace=True)"
   ]
  },
  {
   "cell_type": "code",
   "execution_count": 144,
   "metadata": {},
   "outputs": [],
   "source": [
    "turbine_features = ['Price region', 'Installation date']"
   ]
  },
  {
   "cell_type": "code",
   "execution_count": 145,
   "metadata": {},
   "outputs": [],
   "source": [
    "#create subset dataframes for each sector\n",
    "turbines_SE1 = turbines.loc[turbines['Price region']=='SE1', turbine_features]\n",
    "turbines_SE1.reset_index(inplace=True)\n",
    "turbines_SE2 = turbines.loc[turbines['Price region']=='SE2', turbine_features]\n",
    "turbines_SE2.reset_index(inplace=True)\n",
    "turbines_SE3 = turbines.loc[turbines['Price region']=='SE3', turbine_features]\n",
    "turbines_SE3.reset_index(inplace=True)\n",
    "turbines_SE4 = turbines.loc[turbines['Price region']=='SE4', turbine_features]\n",
    "turbines_SE4.reset_index(inplace=True)"
   ]
  },
  {
   "cell_type": "code",
   "execution_count": 146,
   "metadata": {},
   "outputs": [],
   "source": [
    "listoffiles=(glob.glob(\"data/*.nc\"))"
   ]
  },
  {
   "cell_type": "code",
   "execution_count": 147,
   "metadata": {},
   "outputs": [],
   "source": [
    "#Extract timestamps from all the weather files as a list\n",
    "    \n",
    "timestamp_list = []\n",
    "\n",
    "for file in listoffiles:\n",
    "    weather = netCDF4.Dataset(file, 'r')\n",
    "    var = weather.variables['time'][:]\n",
    "    units = weather.variables['time'].units\n",
    "    Timestamp = netCDF4.num2date(var, units=units)\n",
    "    timestamp_list.append(Timestamp)\n",
    "\n",
    "timestamp_list_reordered = []\n",
    "for i in range(len(timestamp_list)):\n",
    "    for j in range(len(timestamp_list[i])):\n",
    "        a = timestamp_list[i][j]\n",
    "        timestamp_list_reordered.append(a)"
   ]
  },
  {
   "cell_type": "code",
   "execution_count": 150,
   "metadata": {},
   "outputs": [
    {
     "data": {
      "text/plain": [
       "cftime.DatetimeGregorian(2000-01-01 00:00:00)"
      ]
     },
     "execution_count": 150,
     "metadata": {},
     "output_type": "execute_result"
    }
   ],
   "source": [
    "timestamp_list_reordered[0] "
   ]
  },
  {
   "cell_type": "code",
   "execution_count": 169,
   "metadata": {},
   "outputs": [],
   "source": [
    "#Extract the string of interest to form the date\n",
    "list_dates = []\n",
    "for date in timestamp_list_reordered:\n",
    "    list_dates.append(timestamp_list_reordered[i].strftime(\"%Y-%m-%d\"))  #cftime date format to string\n",
    "    \n",
    "\n",
    "timestamps_formatted = []\n",
    "for date in list_dates:\n",
    "    datetime_obj = datetime.datetime.strptime(date, '%Y-%m-%d') #string to date again, now in python datetime.datetime format\n",
    "    a = datetime_obj.date() #datetime.date(YYYY,mm,dd)\n",
    "    timestamps_formatted.append(a)"
   ]
  },
  {
   "cell_type": "code",
   "execution_count": 167,
   "metadata": {},
   "outputs": [],
   "source": [
    "#Transform the installation date string to a datetime.date()\n",
    "\n",
    "list_SE1 = []\n",
    "for date in turbines_SE1['Installation date'].values:\n",
    "    a = datetime.datetime.strptime(date, \"%d/%m/%y\").strftime('%Y-%m-%d') #change format from dd/mm/yy to YYYY-mm-dd\n",
    "    b = datetime.datetime.strptime(a, format_str) \n",
    "    b.date()\n",
    "    if b > datetime.datetime.now():\n",
    "        b = b - relativedelta(years=100) #to avoid years 2050 etc\n",
    "    list_SE1.append(b)"
   ]
  },
  {
   "cell_type": "code",
   "execution_count": 168,
   "metadata": {},
   "outputs": [],
   "source": [
    "#Some turbines have installation date 1881-12-31: either we modify it here or it is handled as an exception in the next cell\n",
    "turbines_SE2.loc[turbines_SE2['Installation date']=='1881-12-31', 'Installation date'] = '31/12/50'\n",
    "turbines_SE3.loc[turbines_SE3['Installation date']=='1881-12-31', 'Installation date'] = '31/12/50'\n",
    "turbines_SE4.loc[turbines_SE4['Installation date']=='1881-12-31', 'Installation date'] = '31/12/50'"
   ]
  },
  {
   "cell_type": "code",
   "execution_count": 135,
   "metadata": {},
   "outputs": [],
   "source": [
    "list_SE2 = []\n",
    "for date in turbines_SE2['Installation date'].values:\n",
    "    a = datetime.datetime.strptime(date, \"%d/%m/%y\").strftime('%Y-%m-%d') \n",
    "    b = datetime.datetime.strptime(a, format_str)\n",
    "    b.date()\n",
    "    if b > datetime.datetime.now():\n",
    "        b = (b - relativedelta(years=100))\n",
    "    list_SE2.append(b)\n",
    "turbines_SE2['date'] = list_SE2\n",
    "    \n",
    "list_SE3 = []\n",
    "for date in turbines_SE3['Installation date'].values:\n",
    "    a = datetime.datetime.strptime(date, \"%d/%m/%y\").strftime('%Y-%m-%d')\n",
    "    b = datetime.datetime.strptime(a, format_str)\n",
    "    b.date()\n",
    "    if b > datetime.datetime.now():\n",
    "        b = (b - relativedelta(years=100))\n",
    "    list_SE3.append(b)\n",
    "turbines_SE3['date'] = list_SE3\n",
    "\n",
    "list_SE4 = []\n",
    "for date in turbines_SE4['Installation date'].values:\n",
    "    a = datetime.datetime.strptime(date, \"%d/%m/%y\").strftime('%Y-%m-%d')\n",
    "    b = datetime.datetime.strptime(a, format_str)\n",
    "    b.date()\n",
    "    if b > datetime.datetime.now():\n",
    "        b = (b - relativedelta(years=100))\n",
    "    list_SE4.append(b)\n",
    "turbines_SE4['date'] = list_SE4"
   ]
  },
  {
   "cell_type": "code",
   "execution_count": 140,
   "metadata": {},
   "outputs": [
    {
     "data": {
      "text/html": [
       "<div>\n",
       "<style scoped>\n",
       "    .dataframe tbody tr th:only-of-type {\n",
       "        vertical-align: middle;\n",
       "    }\n",
       "\n",
       "    .dataframe tbody tr th {\n",
       "        vertical-align: top;\n",
       "    }\n",
       "\n",
       "    .dataframe thead th {\n",
       "        text-align: right;\n",
       "    }\n",
       "</style>\n",
       "<table border=\"1\" class=\"dataframe\">\n",
       "  <thead>\n",
       "    <tr style=\"text-align: right;\">\n",
       "      <th></th>\n",
       "      <th>index</th>\n",
       "      <th>Terrain height [m]</th>\n",
       "      <th>Nacelle height [m]</th>\n",
       "      <th>Rotor diameter [m]</th>\n",
       "      <th>Max power [MW]</th>\n",
       "      <th>Price region</th>\n",
       "      <th>Installation date</th>\n",
       "      <th>Longitude</th>\n",
       "      <th>Latitude</th>\n",
       "      <th>x</th>\n",
       "      <th>y</th>\n",
       "      <th>(y,x)</th>\n",
       "      <th>date</th>\n",
       "    </tr>\n",
       "  </thead>\n",
       "  <tbody>\n",
       "    <tr>\n",
       "      <th>0</th>\n",
       "      <td>3</td>\n",
       "      <td>413.00</td>\n",
       "      <td>98.0</td>\n",
       "      <td>90.0</td>\n",
       "      <td>0.02</td>\n",
       "      <td>SE2</td>\n",
       "      <td>31/12/50</td>\n",
       "      <td>13.376852</td>\n",
       "      <td>63.437566</td>\n",
       "      <td>24</td>\n",
       "      <td>93</td>\n",
       "      <td>(93, 24)</td>\n",
       "      <td>1950-12-31</td>\n",
       "    </tr>\n",
       "    <tr>\n",
       "      <th>1</th>\n",
       "      <td>4</td>\n",
       "      <td>413.58</td>\n",
       "      <td>98.0</td>\n",
       "      <td>90.0</td>\n",
       "      <td>0.10</td>\n",
       "      <td>SE2</td>\n",
       "      <td>31/12/50</td>\n",
       "      <td>13.376548</td>\n",
       "      <td>63.436982</td>\n",
       "      <td>24</td>\n",
       "      <td>93</td>\n",
       "      <td>(93, 24)</td>\n",
       "      <td>1950-12-31</td>\n",
       "    </tr>\n",
       "    <tr>\n",
       "      <th>2</th>\n",
       "      <td>5</td>\n",
       "      <td>79.22</td>\n",
       "      <td>17.0</td>\n",
       "      <td>11.0</td>\n",
       "      <td>0.01</td>\n",
       "      <td>SE2</td>\n",
       "      <td>31/12/50</td>\n",
       "      <td>19.174957</td>\n",
       "      <td>63.523244</td>\n",
       "      <td>53</td>\n",
       "      <td>94</td>\n",
       "      <td>(94, 53)</td>\n",
       "      <td>1950-12-31</td>\n",
       "    </tr>\n",
       "    <tr>\n",
       "      <th>3</th>\n",
       "      <td>107</td>\n",
       "      <td>176.25</td>\n",
       "      <td>40.0</td>\n",
       "      <td>44.0</td>\n",
       "      <td>0.60</td>\n",
       "      <td>SE2</td>\n",
       "      <td>01/05/78</td>\n",
       "      <td>17.952315</td>\n",
       "      <td>62.609209</td>\n",
       "      <td>47</td>\n",
       "      <td>84</td>\n",
       "      <td>(84, 47)</td>\n",
       "      <td>1978-05-01</td>\n",
       "    </tr>\n",
       "    <tr>\n",
       "      <th>4</th>\n",
       "      <td>151</td>\n",
       "      <td>100.04</td>\n",
       "      <td>40.0</td>\n",
       "      <td>44.0</td>\n",
       "      <td>0.60</td>\n",
       "      <td>SE2</td>\n",
       "      <td>27/10/78</td>\n",
       "      <td>18.059759</td>\n",
       "      <td>62.755146</td>\n",
       "      <td>48</td>\n",
       "      <td>86</td>\n",
       "      <td>(86, 48)</td>\n",
       "      <td>1978-10-27</td>\n",
       "    </tr>\n",
       "  </tbody>\n",
       "</table>\n",
       "</div>"
      ],
      "text/plain": [
       "   index  Terrain height [m]  Nacelle height [m]  Rotor diameter [m]  \\\n",
       "0      3              413.00                98.0                90.0   \n",
       "1      4              413.58                98.0                90.0   \n",
       "2      5               79.22                17.0                11.0   \n",
       "3    107              176.25                40.0                44.0   \n",
       "4    151              100.04                40.0                44.0   \n",
       "\n",
       "   Max power [MW] Price region Installation date  Longitude   Latitude   x  \\\n",
       "0            0.02          SE2          31/12/50  13.376852  63.437566  24   \n",
       "1            0.10          SE2          31/12/50  13.376548  63.436982  24   \n",
       "2            0.01          SE2          31/12/50  19.174957  63.523244  53   \n",
       "3            0.60          SE2          01/05/78  17.952315  62.609209  47   \n",
       "4            0.60          SE2          27/10/78  18.059759  62.755146  48   \n",
       "\n",
       "    y     (y,x)       date  \n",
       "0  93  (93, 24) 1950-12-31  \n",
       "1  93  (93, 24) 1950-12-31  \n",
       "2  94  (94, 53) 1950-12-31  \n",
       "3  84  (84, 47) 1978-05-01  \n",
       "4  86  (86, 48) 1978-10-27  "
      ]
     },
     "execution_count": 140,
     "metadata": {},
     "output_type": "execute_result"
    }
   ],
   "source": [
    "#quick check to see if the formats are ok\n",
    "turbines_SE2.head()"
   ]
  },
  {
   "cell_type": "code",
   "execution_count": 170,
   "metadata": {},
   "outputs": [],
   "source": [
    "installed_SE1 = np.zeros(shape=(len(timestamp_list_reordered),len(list_SE1)))\n",
    "installed_SE2 = np.zeros(shape=(len(timestamp_list_reordered),len(list_SE2)))\n",
    "installed_SE3 = np.zeros(shape=(len(timestamp_list_reordered),len(list_SE3)))\n",
    "installed_SE4 = np.zeros(shape=(len(timestamp_list_reordered),len(list_SE4)))\n",
    "\n",
    "for i, date1 in enumerate(timestamps_formatted):\n",
    "    for j, date2 in enumerate(list_SE1):\n",
    "        installed_SE1[i][j] = int(date1>date2.date())\n",
    "        \n",
    "for i, date1 in enumerate(timestamps_formatted):\n",
    "    for j, date2 in enumerate(list_SE2):\n",
    "        installed_SE2[i][j] = int(date1>date2.date())\n",
    "        \n",
    "for i, date1 in enumerate(timestamps_formatted):\n",
    "    for j, date2 in enumerate(list_SE3):\n",
    "        installed_SE3[i][j] = int(date1>date2.date())\n",
    "        \n",
    "for i, date1 in enumerate(timestamps_formatted):\n",
    "    for j, date2 in enumerate(list_SE4):\n",
    "        installed_SE4[i][j] = int(date1>date2.date())\n"
   ]
  },
  {
   "cell_type": "code",
   "execution_count": 172,
   "metadata": {},
   "outputs": [
    {
     "data": {
      "text/plain": [
       "array([[1., 1., 1., ..., 0., 0., 0.],\n",
       "       [1., 1., 1., ..., 0., 0., 0.],\n",
       "       [1., 1., 1., ..., 0., 0., 0.],\n",
       "       ...,\n",
       "       [1., 1., 1., ..., 0., 0., 0.],\n",
       "       [1., 1., 1., ..., 0., 0., 0.],\n",
       "       [1., 1., 1., ..., 0., 0., 0.]])"
      ]
     },
     "execution_count": 172,
     "metadata": {},
     "output_type": "execute_result"
    }
   ],
   "source": [
    "installed_SE2"
   ]
  },
  {
   "cell_type": "code",
   "execution_count": 173,
   "metadata": {},
   "outputs": [
    {
     "data": {
      "text/plain": [
       "(10152, 1112)"
      ]
     },
     "execution_count": 173,
     "metadata": {},
     "output_type": "execute_result"
    }
   ],
   "source": [
    "installed_SE2.shape"
   ]
  },
  {
   "cell_type": "code",
   "execution_count": 179,
   "metadata": {},
   "outputs": [
    {
     "data": {
      "text/plain": [
       "0.0"
      ]
     },
     "execution_count": 179,
     "metadata": {},
     "output_type": "execute_result"
    }
   ],
   "source": [
    "installed_SE2[10151,1090]"
   ]
  },
  {
   "cell_type": "code",
   "execution_count": 178,
   "metadata": {},
   "outputs": [
    {
     "data": {
      "text/html": [
       "<div>\n",
       "<style scoped>\n",
       "    .dataframe tbody tr th:only-of-type {\n",
       "        vertical-align: middle;\n",
       "    }\n",
       "\n",
       "    .dataframe tbody tr th {\n",
       "        vertical-align: top;\n",
       "    }\n",
       "\n",
       "    .dataframe thead th {\n",
       "        text-align: right;\n",
       "    }\n",
       "</style>\n",
       "<table border=\"1\" class=\"dataframe\">\n",
       "  <thead>\n",
       "    <tr style=\"text-align: right;\">\n",
       "      <th></th>\n",
       "      <th>index</th>\n",
       "      <th>Price region</th>\n",
       "      <th>Installation date</th>\n",
       "    </tr>\n",
       "  </thead>\n",
       "  <tbody>\n",
       "    <tr>\n",
       "      <th>0</th>\n",
       "      <td>3</td>\n",
       "      <td>SE2</td>\n",
       "      <td>31/12/50</td>\n",
       "    </tr>\n",
       "    <tr>\n",
       "      <th>1</th>\n",
       "      <td>4</td>\n",
       "      <td>SE2</td>\n",
       "      <td>31/12/50</td>\n",
       "    </tr>\n",
       "    <tr>\n",
       "      <th>2</th>\n",
       "      <td>5</td>\n",
       "      <td>SE2</td>\n",
       "      <td>31/12/50</td>\n",
       "    </tr>\n",
       "    <tr>\n",
       "      <th>3</th>\n",
       "      <td>107</td>\n",
       "      <td>SE2</td>\n",
       "      <td>01/05/78</td>\n",
       "    </tr>\n",
       "    <tr>\n",
       "      <th>4</th>\n",
       "      <td>151</td>\n",
       "      <td>SE2</td>\n",
       "      <td>27/10/78</td>\n",
       "    </tr>\n",
       "    <tr>\n",
       "      <th>...</th>\n",
       "      <td>...</td>\n",
       "      <td>...</td>\n",
       "      <td>...</td>\n",
       "    </tr>\n",
       "    <tr>\n",
       "      <th>1087</th>\n",
       "      <td>3935</td>\n",
       "      <td>SE2</td>\n",
       "      <td>31/10/01</td>\n",
       "    </tr>\n",
       "    <tr>\n",
       "      <th>1088</th>\n",
       "      <td>3937</td>\n",
       "      <td>SE2</td>\n",
       "      <td>31/10/01</td>\n",
       "    </tr>\n",
       "    <tr>\n",
       "      <th>1089</th>\n",
       "      <td>3939</td>\n",
       "      <td>SE2</td>\n",
       "      <td>31/10/01</td>\n",
       "    </tr>\n",
       "    <tr>\n",
       "      <th>1090</th>\n",
       "      <td>3940</td>\n",
       "      <td>SE2</td>\n",
       "      <td>31/10/01</td>\n",
       "    </tr>\n",
       "    <tr>\n",
       "      <th>1091</th>\n",
       "      <td>3941</td>\n",
       "      <td>SE2</td>\n",
       "      <td>31/10/01</td>\n",
       "    </tr>\n",
       "  </tbody>\n",
       "</table>\n",
       "<p>1092 rows × 3 columns</p>\n",
       "</div>"
      ],
      "text/plain": [
       "      index Price region Installation date\n",
       "0         3          SE2          31/12/50\n",
       "1         4          SE2          31/12/50\n",
       "2         5          SE2          31/12/50\n",
       "3       107          SE2          01/05/78\n",
       "4       151          SE2          27/10/78\n",
       "...     ...          ...               ...\n",
       "1087   3935          SE2          31/10/01\n",
       "1088   3937          SE2          31/10/01\n",
       "1089   3939          SE2          31/10/01\n",
       "1090   3940          SE2          31/10/01\n",
       "1091   3941          SE2          31/10/01\n",
       "\n",
       "[1092 rows x 3 columns]"
      ]
     },
     "execution_count": 178,
     "metadata": {},
     "output_type": "execute_result"
    }
   ],
   "source": [
    "turbines_SE2.head(-20)"
   ]
  }
 ],
 "metadata": {
  "kernelspec": {
   "display_name": "Python 3",
   "language": "python",
   "name": "python3"
  },
  "language_info": {
   "codemirror_mode": {
    "name": "ipython",
    "version": 3
   },
   "file_extension": ".py",
   "mimetype": "text/x-python",
   "name": "python",
   "nbconvert_exporter": "python",
   "pygments_lexer": "ipython3",
   "version": "3.7.0"
  }
 },
 "nbformat": 4,
 "nbformat_minor": 2
}
