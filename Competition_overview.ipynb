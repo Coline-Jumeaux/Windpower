{
 "cells": [
  {
   "cell_type": "markdown",
   "metadata": {},
   "source": [
    "# EEM20 Forecasting Competition\n",
    "\n",
    "[Link to the website](https://eem20.eu/forecasting-competition/#:~:text=This%20competition%20aims%20to%20stimulate,for%20forecasting%20wind%20power%20generation.)"
   ]
  },
  {
   "cell_type": "markdown",
   "metadata": {},
   "source": [
    "## Goal\n",
    "\n",
    "Predict wind power generation for each energy sector of Sweden over one month."
   ]
  },
  {
   "cell_type": "markdown",
   "metadata": {},
   "source": [
    "## Data overview\n",
    "\n",
    "The data provided in this competition consists of three parts:\n",
    "\n",
    "1. Gridded weather forecasts over Sweden splitted in daily NetCDF files, covering one year\n",
    "2. Aggregate wind power production in the four different swedish price regions for that same year\n",
    "3. A record of swedish wind turbines and their location"
   ]
  },
  {
   "cell_type": "markdown",
   "metadata": {},
   "source": [
    "The gridded weather forecasts are provided as 10 ensembles on a 71×169 projection coordinate grid centered over Sweden and contain the following variables:"
   ]
  },
  {
   "cell_type": "markdown",
   "metadata": {},
   "source": [
    "| Variable name | Long name | Unit |\n",
    "| :-: | :-: | :-: |\n",
    "| Temperature | Surface temperature (T2M) | K |\n",
    "| Wind_U | Zonal 10 metre wind (U10M) | m/s |\n",
    "| Wind_V | Meridional 10 metre wind (V10M) | m/s |\n",
    "| WindGustSpeed | Wind gust | m/s |\n",
    "| Pressure | Mean Sea Level Pressure (MSLP) | Pa |\n",
    "| RelativeHumidity | Screen level relative humidity (RH2M) | - |\n",
    "| CloudCover | Total cloud cover (TCC) | - |\n"
   ]
  },
  {
   "cell_type": "markdown",
   "metadata": {},
   "source": [
    "The wind power production data is given as aggregates over each price region (SE1, SE2, SE3, SE4) in MWh/h. Since wind power capacity has grown over the course of the 24 months of competition data, a record of wind turbine installations is also provided. <br> This record is quality checked as best as possible but there might be discrepancies compared to reality. For example, according to the Swedish Wind Power Association there were 4099 wind turbines in Sweden constituting 8984 MW of installed capacity. In the record provided there are only 4004 wind turbines constituting 8640 MW of installed capacity. <br> It is anticipated that the provided wind turbine record could be useful in understanding geographical clusters of wind turbines as well as the growth of installed capacity."
   ]
  }
 ],
 "metadata": {
  "kernelspec": {
   "display_name": "Python 3",
   "language": "python",
   "name": "python3"
  },
  "language_info": {
   "codemirror_mode": {
    "name": "ipython",
    "version": 3
   },
   "file_extension": ".py",
   "mimetype": "text/x-python",
   "name": "python",
   "nbconvert_exporter": "python",
   "pygments_lexer": "ipython3",
   "version": "3.7.0"
  }
 },
 "nbformat": 4,
 "nbformat_minor": 4
}
